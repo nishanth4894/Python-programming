{
 "cells": [
  {
   "cell_type": "markdown",
   "metadata": {},
   "source": [
    "1. Write a Python program to convert kilometers to miles?"
   ]
  },
  {
   "cell_type": "markdown",
   "metadata": {},
   "source": [
    "1 kilometre equals 0.62137 miles.  \n",
    "Miles = kilometre * 0.62137  \n",
    "And,  \n",
    "Kilometre = Miles / 0.62137 "
   ]
  },
  {
   "cell_type": "code",
   "execution_count": 3,
   "metadata": {},
   "outputs": [
    {
     "name": "stdout",
     "output_type": "stream",
     "text": [
      "Enter the distance in your car travelled in Kilometers: 10000.456\n",
      "The miles your car travelled is 6213.98334472\n"
     ]
    }
   ],
   "source": [
    "a = float(input(\"Enter the distance in your car travelled in Kilometers: \"))\n",
    "\n",
    "km_to_miles_ratio = 0.62137\n",
    "\n",
    "if a < 0:\n",
    "    print(\"Enter the kilometers in positive values\")\n",
    "else:\n",
    "    b = a*km_to_miles_ratio\n",
    "    print(f\"The miles your car travelled is {b}\")"
   ]
  },
  {
   "cell_type": "markdown",
   "metadata": {},
   "source": [
    "2. Write a Python program to convert Celsius to Fahrenheit?"
   ]
  },
  {
   "cell_type": "code",
   "execution_count": 6,
   "metadata": {},
   "outputs": [
    {
     "name": "stdout",
     "output_type": "stream",
     "text": [
      "Enter the temperature in celcius: -45\n",
      "The entered celcius is -45.0 and celcius to farenheit is -49.0\n"
     ]
    }
   ],
   "source": [
    "celcius = float(input(\"Enter the temperature in celcius: \"))\n",
    "\n",
    "farenheit = (celcius * 1.8) + 32\n",
    "\n",
    "print(f\"The entered celcius is {celcius} and celcius to farenheit is {farenheit}\")"
   ]
  },
  {
   "cell_type": "markdown",
   "metadata": {},
   "source": [
    "3. Write a Python program to display calendar?"
   ]
  },
  {
   "cell_type": "code",
   "execution_count": 10,
   "metadata": {
    "scrolled": true
   },
   "outputs": [
    {
     "name": "stdout",
     "output_type": "stream",
     "text": [
      "Enter the year:2022\n",
      "                                  2022\n",
      "\n",
      "      January                   February                   March\n",
      "Mo Tu We Th Fr Sa Su      Mo Tu We Th Fr Sa Su      Mo Tu We Th Fr Sa Su\n",
      "                1  2          1  2  3  4  5  6          1  2  3  4  5  6\n",
      " 3  4  5  6  7  8  9       7  8  9 10 11 12 13       7  8  9 10 11 12 13\n",
      "10 11 12 13 14 15 16      14 15 16 17 18 19 20      14 15 16 17 18 19 20\n",
      "17 18 19 20 21 22 23      21 22 23 24 25 26 27      21 22 23 24 25 26 27\n",
      "24 25 26 27 28 29 30      28                        28 29 30 31\n",
      "31\n",
      "\n",
      "       April                      May                       June\n",
      "Mo Tu We Th Fr Sa Su      Mo Tu We Th Fr Sa Su      Mo Tu We Th Fr Sa Su\n",
      "             1  2  3                         1             1  2  3  4  5\n",
      " 4  5  6  7  8  9 10       2  3  4  5  6  7  8       6  7  8  9 10 11 12\n",
      "11 12 13 14 15 16 17       9 10 11 12 13 14 15      13 14 15 16 17 18 19\n",
      "18 19 20 21 22 23 24      16 17 18 19 20 21 22      20 21 22 23 24 25 26\n",
      "25 26 27 28 29 30         23 24 25 26 27 28 29      27 28 29 30\n",
      "                          30 31\n",
      "\n",
      "        July                     August                  September\n",
      "Mo Tu We Th Fr Sa Su      Mo Tu We Th Fr Sa Su      Mo Tu We Th Fr Sa Su\n",
      "             1  2  3       1  2  3  4  5  6  7                1  2  3  4\n",
      " 4  5  6  7  8  9 10       8  9 10 11 12 13 14       5  6  7  8  9 10 11\n",
      "11 12 13 14 15 16 17      15 16 17 18 19 20 21      12 13 14 15 16 17 18\n",
      "18 19 20 21 22 23 24      22 23 24 25 26 27 28      19 20 21 22 23 24 25\n",
      "25 26 27 28 29 30 31      29 30 31                  26 27 28 29 30\n",
      "\n",
      "      October                   November                  December\n",
      "Mo Tu We Th Fr Sa Su      Mo Tu We Th Fr Sa Su      Mo Tu We Th Fr Sa Su\n",
      "                1  2          1  2  3  4  5  6                1  2  3  4\n",
      " 3  4  5  6  7  8  9       7  8  9 10 11 12 13       5  6  7  8  9 10 11\n",
      "10 11 12 13 14 15 16      14 15 16 17 18 19 20      12 13 14 15 16 17 18\n",
      "17 18 19 20 21 22 23      21 22 23 24 25 26 27      19 20 21 22 23 24 25\n",
      "24 25 26 27 28 29 30      28 29 30                  26 27 28 29 30 31\n",
      "31\n",
      "\n"
     ]
    }
   ],
   "source": [
    "import calendar\n",
    "year = int(input(\"Enter the year:\"))\n",
    "print(calendar.calendar(year))"
   ]
  },
  {
   "cell_type": "markdown",
   "metadata": {},
   "source": [
    "4. Write a Python program to solve quadratic equation?"
   ]
  },
  {
   "cell_type": "code",
   "execution_count": 12,
   "metadata": {},
   "outputs": [
    {
     "name": "stdout",
     "output_type": "stream",
     "text": [
      "enter the number a2\n",
      "enter the number b5\n",
      "enter the number c7\n"
     ]
    }
   ],
   "source": [
    "import math\n",
    "\n",
    "def edu_roots(a,b,c):\n",
    "    dis = (b**2) - (4*a*c) #calculate discriminate\n",
    "    \n",
    "    #checking condition fo discriminate\n",
    "    if (dis > 0):\n",
    "        root1 = (-b + math.sqrt(dis) / 2 * a)\n",
    "        root2 = (-b - math.sqrt(dis) / 2 * a)\n",
    "        print(f\"Two distinct real roots are {root1} and {root2}\")\n",
    "    elif (dis == 0):\n",
    "        root1 = root2 = -b / 2 * a\n",
    "        print(f\"Two equal and real roots are {root1} and {root2}\")\n",
    "    elif (dis < 0):\n",
    "        root1 = root2 = -b / (2 * a)\n",
    "        imaginary = math.sqrt(-dis) / (2 * a)\n",
    "        print(\"Two distinct complex roots are %.2f+%.2f and %.2f-%.2f\" \n",
    "                         %(root1, imaginary, root2, imaginary))\n",
    "        \n",
    "a = int(input(\"enter the number a\"))\n",
    "b = int(input(\"enter the number b\"))\n",
    "c = int(input(\"enter the number c\"))"
   ]
  },
  {
   "cell_type": "code",
   "execution_count": 14,
   "metadata": {},
   "outputs": [
    {
     "name": "stdout",
     "output_type": "stream",
     "text": [
      "Two distinct complex roots are -1.25+1.39 and -1.25-1.39\n"
     ]
    }
   ],
   "source": [
    "edu_roots(2,5,7)"
   ]
  },
  {
   "cell_type": "markdown",
   "metadata": {},
   "source": [
    "5. Write a Python program to swap two variables without temp variable?"
   ]
  },
  {
   "cell_type": "code",
   "execution_count": 17,
   "metadata": {},
   "outputs": [
    {
     "name": "stdout",
     "output_type": "stream",
     "text": [
      "Enter the number a : 45\n",
      "Enter the number b : 67\n",
      "a = 67\n",
      "b = 45\n"
     ]
    }
   ],
   "source": [
    "a = int(input(\"Enter the number a : \"))\n",
    "b = int(input(\"Enter the number b : \"))\n",
    "\n",
    "a,b = b,a\n",
    "\n",
    "print(\"a =\",a)\n",
    "print(\"b =\",b)"
   ]
  },
  {
   "cell_type": "code",
   "execution_count": null,
   "metadata": {},
   "outputs": [],
   "source": []
  }
 ],
 "metadata": {
  "kernelspec": {
   "display_name": "Python 3",
   "language": "python",
   "name": "python3"
  },
  "language_info": {
   "codemirror_mode": {
    "name": "ipython",
    "version": 3
   },
   "file_extension": ".py",
   "mimetype": "text/x-python",
   "name": "python",
   "nbconvert_exporter": "python",
   "pygments_lexer": "ipython3",
   "version": "3.8.5"
  }
 },
 "nbformat": 4,
 "nbformat_minor": 4
}
