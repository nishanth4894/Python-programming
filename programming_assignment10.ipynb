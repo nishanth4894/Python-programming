{
 "cells": [
  {
   "cell_type": "code",
   "execution_count": 1,
   "id": "3133e2db",
   "metadata": {},
   "outputs": [],
   "source": [
    "# 1. Write a Python program to find sum of elements in list?"
   ]
  },
  {
   "cell_type": "code",
   "execution_count": 12,
   "id": "8358e913",
   "metadata": {},
   "outputs": [
    {
     "name": "stdout",
     "output_type": "stream",
     "text": [
      "219\n"
     ]
    }
   ],
   "source": [
    "l = [23,56,89,1,32,4,6,8]\n",
    "\n",
    "total=0\n",
    "\n",
    "for i in l:\n",
    "    total=total+i\n",
    "print(total)"
   ]
  },
  {
   "cell_type": "code",
   "execution_count": 13,
   "id": "ef545e14",
   "metadata": {},
   "outputs": [],
   "source": [
    "# 2. Write a Python program to Multiply all numbers in the list?"
   ]
  },
  {
   "cell_type": "code",
   "execution_count": 21,
   "id": "7809cf94",
   "metadata": {},
   "outputs": [
    {
     "name": "stdout",
     "output_type": "stream",
     "text": [
      "180\n"
     ]
    }
   ],
   "source": [
    "l = [2,3,5,6]\n",
    "\n",
    "mul = 1\n",
    "\n",
    "for i in l:\n",
    "    mul = mul * i\n",
    "print(mul)"
   ]
  },
  {
   "cell_type": "code",
   "execution_count": 22,
   "id": "48827835",
   "metadata": {},
   "outputs": [],
   "source": [
    "# 3. Write a Python program to find smallest number in a list?"
   ]
  },
  {
   "cell_type": "code",
   "execution_count": 24,
   "id": "332af32c",
   "metadata": {},
   "outputs": [
    {
     "name": "stdout",
     "output_type": "stream",
     "text": [
      "1\n"
     ]
    }
   ],
   "source": [
    "l = [23,56,89,1,32]\n",
    "\n",
    "min_ele = l[0]\n",
    "\n",
    "for i in l:\n",
    "    if i < min_ele:\n",
    "        min_ele = i\n",
    "print(min_ele)"
   ]
  },
  {
   "cell_type": "code",
   "execution_count": 25,
   "id": "062b6eb8",
   "metadata": {},
   "outputs": [],
   "source": [
    "# 4. Write a Python program to find largest number in a list?"
   ]
  },
  {
   "cell_type": "code",
   "execution_count": 26,
   "id": "a63986ea",
   "metadata": {},
   "outputs": [
    {
     "name": "stdout",
     "output_type": "stream",
     "text": [
      "89\n"
     ]
    }
   ],
   "source": [
    "l = [23,56,89,1,32]\n",
    "\n",
    "max_ele = l[0]\n",
    "\n",
    "for i in l:\n",
    "    if i>max_ele:\n",
    "        max_ele=i\n",
    "print(max_ele)"
   ]
  },
  {
   "cell_type": "code",
   "execution_count": 27,
   "id": "05416cb6",
   "metadata": {},
   "outputs": [],
   "source": [
    "# 5. Write a Python program to find second largest number in a list?"
   ]
  },
  {
   "cell_type": "code",
   "execution_count": 28,
   "id": "afc0d544",
   "metadata": {},
   "outputs": [
    {
     "name": "stdout",
     "output_type": "stream",
     "text": [
      "56\n"
     ]
    }
   ],
   "source": [
    "l = [23,56,89,1,32]\n",
    "\n",
    "mx = max(l[0],l[1])\n",
    "secondmx = min(l[0],l[1])\n",
    "\n",
    "for i in l:\n",
    "    if i > mx:\n",
    "        secondmx = mx\n",
    "        mx = i\n",
    "    elif i > secondmx and mx!=i:\n",
    "        secondmx=i\n",
    "    elif mx == secondmx and secondmx != i:\n",
    "        secondmx=i\n",
    "print(secondmx)"
   ]
  },
  {
   "cell_type": "code",
   "execution_count": 29,
   "id": "6f66c50c",
   "metadata": {},
   "outputs": [],
   "source": [
    "# 6. Write a Python program to find N largest elements from a list?"
   ]
  },
  {
   "cell_type": "code",
   "execution_count": 30,
   "id": "18064e24",
   "metadata": {},
   "outputs": [],
   "source": [
    "def N_max_elements(l,N):\n",
    "    l1 = []\n",
    "    \n",
    "    for i in l:\n",
    "        mx = 0\n",
    "        \n",
    "        for j in l:\n",
    "            if j > mx:\n",
    "                mx = j\n",
    "        \n",
    "        l.remove(mx)\n",
    "        l1.append(mx)\n",
    "    return l1"
   ]
  },
  {
   "cell_type": "code",
   "execution_count": 31,
   "id": "e0312aba",
   "metadata": {},
   "outputs": [],
   "source": [
    "l = [23,56,7,65,23,68,90,234]\n",
    "N = 4"
   ]
  },
  {
   "cell_type": "code",
   "execution_count": 32,
   "id": "caba1203",
   "metadata": {},
   "outputs": [
    {
     "data": {
      "text/plain": [
       "[234, 90, 68, 65]"
      ]
     },
     "execution_count": 32,
     "metadata": {},
     "output_type": "execute_result"
    }
   ],
   "source": [
    "N_max_elements(l,N)"
   ]
  },
  {
   "cell_type": "code",
   "execution_count": 33,
   "id": "c248424b",
   "metadata": {},
   "outputs": [],
   "source": [
    "# 7. Write a Python program to print even numbers in a list?"
   ]
  },
  {
   "cell_type": "code",
   "execution_count": 34,
   "id": "69683190",
   "metadata": {},
   "outputs": [
    {
     "name": "stdout",
     "output_type": "stream",
     "text": [
      "[56, 68, 90, 234]\n"
     ]
    }
   ],
   "source": [
    "l = [23,56,7,65,23,68,90,234]\n",
    "\n",
    "l1 = []\n",
    "\n",
    "for i in l:\n",
    "    if (i%2==0):\n",
    "        l1.append(i)\n",
    "print(l1)"
   ]
  },
  {
   "cell_type": "code",
   "execution_count": 35,
   "id": "82c0a263",
   "metadata": {},
   "outputs": [],
   "source": [
    "# 8. Write a Python program to print odd numbers in a List?"
   ]
  },
  {
   "cell_type": "code",
   "execution_count": 36,
   "id": "fd49745c",
   "metadata": {},
   "outputs": [
    {
     "name": "stdout",
     "output_type": "stream",
     "text": [
      "[23, 7, 65, 23]\n"
     ]
    }
   ],
   "source": [
    "l = [23,56,7,65,23,68,90,234]\n",
    "\n",
    "l1 = []\n",
    "\n",
    "for i in l:\n",
    "    if (i%2!=0):\n",
    "        l1.append(i)\n",
    "print(l1)"
   ]
  },
  {
   "cell_type": "code",
   "execution_count": 37,
   "id": "772b5887",
   "metadata": {},
   "outputs": [],
   "source": [
    "# 9. Write a Python program to Remove empty List from List?"
   ]
  },
  {
   "cell_type": "code",
   "execution_count": 38,
   "id": "a29a37ec",
   "metadata": {},
   "outputs": [
    {
     "data": {
      "text/plain": [
       "[23, 5, 6, 4, [3, 6, 7]]"
      ]
     },
     "execution_count": 38,
     "metadata": {},
     "output_type": "execute_result"
    }
   ],
   "source": [
    "def empty_list_remove(input_list):\n",
    "    new_list = []\n",
    "    for ele in input_list:\n",
    "        if ele:\n",
    "            new_list.append(ele)\n",
    "    return new_list\n",
    "\n",
    "l = [23,5,6,[],4,[],[3,6,7],[],0]\n",
    "empty_list_remove(l)"
   ]
  },
  {
   "cell_type": "code",
   "execution_count": 44,
   "id": "dfcf3954",
   "metadata": {},
   "outputs": [],
   "source": [
    "# 10. Write a Python program to Cloning or Copying a list?"
   ]
  },
  {
   "cell_type": "code",
   "execution_count": 43,
   "id": "42f2ddb9",
   "metadata": {},
   "outputs": [
    {
     "name": "stdout",
     "output_type": "stream",
     "text": [
      "Original List: [4, 8, 2, 10, 15, 18]\n",
      "After Cloning: [4, 8, 2, 10, 15, 18]\n"
     ]
    }
   ],
   "source": [
    "def Cloning(l1):\n",
    "    l_copy = l1[:]\n",
    "    return l_copy\n",
    " \n",
    " \n",
    "l1 = [4, 8, 2, 10, 15, 18]\n",
    "l2 = Cloning(l1)\n",
    "print(\"Original List:\", l1)\n",
    "print(\"After Cloning:\", l2)"
   ]
  },
  {
   "cell_type": "code",
   "execution_count": 45,
   "id": "8beee2dd",
   "metadata": {},
   "outputs": [],
   "source": [
    "# 11. Write a Python program to Count occurrences of an element in a list?"
   ]
  },
  {
   "cell_type": "code",
   "execution_count": 49,
   "id": "1eb0f53c",
   "metadata": {},
   "outputs": [
    {
     "data": {
      "text/plain": [
       "4"
      ]
     },
     "execution_count": 49,
     "metadata": {},
     "output_type": "execute_result"
    }
   ],
   "source": [
    "l = [4, 8, 2, 10, 15, 18,2,2,6,9,8,10,2]\n",
    "l.count(2)"
   ]
  },
  {
   "cell_type": "code",
   "execution_count": null,
   "id": "ce0b17b2",
   "metadata": {},
   "outputs": [],
   "source": []
  }
 ],
 "metadata": {
  "kernelspec": {
   "display_name": "Python 3",
   "language": "python",
   "name": "python3"
  },
  "language_info": {
   "codemirror_mode": {
    "name": "ipython",
    "version": 3
   },
   "file_extension": ".py",
   "mimetype": "text/x-python",
   "name": "python",
   "nbconvert_exporter": "python",
   "pygments_lexer": "ipython3",
   "version": "3.9.13"
  }
 },
 "nbformat": 4,
 "nbformat_minor": 5
}
