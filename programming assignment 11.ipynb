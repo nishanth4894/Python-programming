{
 "cells": [
  {
   "cell_type": "code",
   "execution_count": 1,
   "id": "9e7f05f8",
   "metadata": {},
   "outputs": [],
   "source": [
    "# 1. Write a Python program to find words which are greater than given length k?"
   ]
  },
  {
   "cell_type": "code",
   "execution_count": 5,
   "id": "3eead286",
   "metadata": {},
   "outputs": [
    {
     "name": "stdout",
     "output_type": "stream",
     "text": [
      "Enter the minimum length of the word:5\n",
      "['imports', 'pandas', 'library', 'library', 'provides', 'easy-to-use', 'structures', 'analysis', 'Python']\n"
     ]
    }
   ],
   "source": [
    "txt = \"The first line of the code imports the pandas library and gives it the name “pd”. This library provides easy-to-use data structures and data analysis tools for Python\"\n",
    "\n",
    "k = int(input(\"Enter the minimum length of the word:\"))\n",
    "l = []\n",
    "\n",
    "t = txt.split()\n",
    "\n",
    "for i in t:\n",
    "    if len(i)>k:\n",
    "        l.append(i)\n",
    "        \n",
    "print(l)\n",
    "    \n"
   ]
  },
  {
   "cell_type": "code",
   "execution_count": 6,
   "id": "05fe9a9d",
   "metadata": {},
   "outputs": [],
   "source": [
    "# 2. Write a Python program for removing i-th character from a string?"
   ]
  },
  {
   "cell_type": "code",
   "execution_count": 12,
   "id": "1fbe9bc5",
   "metadata": {},
   "outputs": [
    {
     "name": "stdout",
     "output_type": "stream",
     "text": [
      "eas-to-use structures\n"
     ]
    }
   ],
   "source": [
    "s = \"easy-to-use structures\"\n",
    "\n",
    "i = 3\n",
    "\n",
    "for j in range(len(s)):\n",
    "    if (j==i):\n",
    "        s = s.replace(s[i],\"\")\n",
    "print(s)"
   ]
  },
  {
   "cell_type": "code",
   "execution_count": 13,
   "id": "115744d4",
   "metadata": {},
   "outputs": [],
   "source": [
    "# 3. Write a Python program to split and join a string?"
   ]
  },
  {
   "cell_type": "code",
   "execution_count": 16,
   "id": "d5518e7a",
   "metadata": {},
   "outputs": [],
   "source": [
    "s = \"The first line of the code imports the pandas\"\n",
    "\n",
    "l_s = s.split()\n",
    "\n",
    "string = \"-\".join(l_s)"
   ]
  },
  {
   "cell_type": "code",
   "execution_count": 17,
   "id": "31c11790",
   "metadata": {},
   "outputs": [
    {
     "data": {
      "text/plain": [
       "'The-first-line-of-the-code-imports-the-pandas'"
      ]
     },
     "execution_count": 17,
     "metadata": {},
     "output_type": "execute_result"
    }
   ],
   "source": [
    "string"
   ]
  },
  {
   "cell_type": "code",
   "execution_count": 18,
   "id": "7dc9ab99",
   "metadata": {},
   "outputs": [],
   "source": [
    "# 4. Write a Python to check if a given string is binary string or not?"
   ]
  },
  {
   "cell_type": "code",
   "execution_count": 26,
   "id": "a3da8ffb",
   "metadata": {},
   "outputs": [
    {
     "name": "stdout",
     "output_type": "stream",
     "text": [
      "Yes\n"
     ]
    }
   ],
   "source": [
    "string = \"01010101010\"\n",
    "binary=\"01\"\n",
    "for i in binary:\n",
    "    string=string.replace(i,\"\")\n",
    "if(len(string)==0):\n",
    "    print(\"Yes\")\n",
    "else:\n",
    "    print(\"No\")"
   ]
  },
  {
   "cell_type": "code",
   "execution_count": 27,
   "id": "8e5bedc4",
   "metadata": {},
   "outputs": [],
   "source": [
    "# 5. Write a Python program to find uncommon words from two Strings?"
   ]
  },
  {
   "cell_type": "code",
   "execution_count": 29,
   "id": "3f384551",
   "metadata": {},
   "outputs": [
    {
     "name": "stdout",
     "output_type": "stream",
     "text": [
      "['tools', 'code', 'library', 'data', 'provides', 'line', 'and', 'easy-to-use', 'structures', 'imports', 'for', 'first', 'Python', 'analysis']\n"
     ]
    }
   ],
   "source": [
    "s1 = \"The first line of the code imports the pandas\"\n",
    "s2 = \"The pandas library provides easy-to-use of the data structures and the data analysis tools for Python\"\n",
    "\n",
    "l_s1 = s1.split()\n",
    "l_s2 = s2.split()\n",
    "\n",
    "l = []\n",
    "\n",
    "for i in l_s:\n",
    "    if i not in l_s2:\n",
    "        l.append(i)\n",
    "\n",
    "for i in l_s2:\n",
    "    if i not in l_s1:\n",
    "        l.append(i)\n",
    "        \n",
    "l = list(set(l))\n",
    "print(l)"
   ]
  },
  {
   "cell_type": "code",
   "execution_count": 30,
   "id": "bc874da2",
   "metadata": {},
   "outputs": [],
   "source": [
    "# 6. Write a Python to find all duplicate characters in string?"
   ]
  },
  {
   "cell_type": "code",
   "execution_count": 32,
   "id": "a4623287",
   "metadata": {},
   "outputs": [
    {
     "name": "stdout",
     "output_type": "stream",
     "text": [
      "T h e   f i r s t l n o c d m p a b y v - u\n"
     ]
    }
   ],
   "source": [
    "txt = \"The first line of the code imports the pandas library and gives it the name “pd”. This library provides easy-to-use data structures and data analysis tools for Python\"\n",
    "\n",
    "x=[]\n",
    "for i in txt:\n",
    "    if i not in x and txt.count(i)>1:\n",
    "        x.append(i)\n",
    "print(\" \".join(x))"
   ]
  },
  {
   "cell_type": "code",
   "execution_count": 33,
   "id": "8931a18c",
   "metadata": {},
   "outputs": [],
   "source": [
    "# 7. Write a Python Program to check if a string contains any special character?"
   ]
  },
  {
   "cell_type": "code",
   "execution_count": 35,
   "id": "a3948d1a",
   "metadata": {},
   "outputs": [],
   "source": [
    "\n",
    "import string\n",
    " \n",
    "def check_string(s):\n",
    "    for c in s:\n",
    "        if c in string.punctuation:\n",
    "            print(\"String has special characters\")\n",
    "            return\n",
    "    print(\"String has no special characters\")"
   ]
  },
  {
   "cell_type": "code",
   "execution_count": 36,
   "id": "a122a8a8",
   "metadata": {},
   "outputs": [
    {
     "name": "stdout",
     "output_type": "stream",
     "text": [
      "String has special characters\n"
     ]
    }
   ],
   "source": [
    "check_string(\"Hello@$%python\")"
   ]
  },
  {
   "cell_type": "code",
   "execution_count": null,
   "id": "fe4ee502",
   "metadata": {},
   "outputs": [],
   "source": []
  }
 ],
 "metadata": {
  "kernelspec": {
   "display_name": "Python 3",
   "language": "python",
   "name": "python3"
  },
  "language_info": {
   "codemirror_mode": {
    "name": "ipython",
    "version": 3
   },
   "file_extension": ".py",
   "mimetype": "text/x-python",
   "name": "python",
   "nbconvert_exporter": "python",
   "pygments_lexer": "ipython3",
   "version": "3.9.13"
  }
 },
 "nbformat": 4,
 "nbformat_minor": 5
}
