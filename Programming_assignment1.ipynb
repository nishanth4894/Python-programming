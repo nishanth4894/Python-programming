{
 "cells": [
  {
   "cell_type": "markdown",
   "metadata": {},
   "source": [
    "1. Write a Python program to print &quot;Hello Python&quot;?"
   ]
  },
  {
   "cell_type": "code",
   "execution_count": 1,
   "metadata": {},
   "outputs": [
    {
     "name": "stdout",
     "output_type": "stream",
     "text": [
      "Hello Python\n"
     ]
    }
   ],
   "source": [
    "print(\"Hello Python\")"
   ]
  },
  {
   "cell_type": "markdown",
   "metadata": {},
   "source": [
    "2. Write a Python program to do arithmetical operations addition and division.?"
   ]
  },
  {
   "cell_type": "code",
   "execution_count": 4,
   "metadata": {},
   "outputs": [
    {
     "name": "stdout",
     "output_type": "stream",
     "text": [
      "enter a number: 45\n",
      "enter a number: 67\n",
      "The addition of the numbers 45,67 is 112 and division of the numbers 45,67 is 0.6716417910447762\n"
     ]
    }
   ],
   "source": [
    "a = int(input(\"enter a number: \"))\n",
    "b = int(input(\"enter a number: \"))\n",
    "\n",
    "addition = a + b\n",
    "if b > 0:\n",
    "    div = a/b\n",
    "\n",
    "print(f\"The addition of the numbers {a},{b} is {addition} and division of the numbers {a},{b} is {div}\")"
   ]
  },
  {
   "cell_type": "markdown",
   "metadata": {},
   "source": [
    "3. Write a Python program to find the area of a triangle?"
   ]
  },
  {
   "cell_type": "code",
   "execution_count": 7,
   "metadata": {},
   "outputs": [
    {
     "name": "stdout",
     "output_type": "stream",
     "text": [
      "enter the base of the triangle: 34.6\n",
      "enter the height of the triangle: 67.8\n",
      "Area of the triangle with base 34.6 and height 67.8 is 1172.94\n"
     ]
    }
   ],
   "source": [
    "b = float(input(\"enter the base of the triangle: \"))\n",
    "h = float(input(\"enter the height of the triangle: \"))\n",
    "\n",
    "area = 1/2*b*h\n",
    "\n",
    "print(f\"Area of the triangle with base {b} and height {h} is {area}\")"
   ]
  },
  {
   "cell_type": "markdown",
   "metadata": {},
   "source": [
    "4. Write a Python program to swap two variables?"
   ]
  },
  {
   "cell_type": "code",
   "execution_count": 9,
   "metadata": {},
   "outputs": [
    {
     "name": "stdout",
     "output_type": "stream",
     "text": [
      "Enter value of x: 2\n",
      "Enter value of y: 3\n",
      "The value of x after swapping: 3\n",
      "The value of y after swapping: 2\n"
     ]
    }
   ],
   "source": [
    "x = input('Enter value of x: ')\n",
    "y = input('Enter value of y: ')\n",
    "\n",
    "# create a temporary variable and swap the values\n",
    "temp = x\n",
    "x = y\n",
    "y = temp\n",
    "\n",
    "print(f\"The value of x after swapping: {x}\")\n",
    "print(f\"The value of y after swapping: {y}\")"
   ]
  },
  {
   "cell_type": "markdown",
   "metadata": {},
   "source": [
    "5. Write a Python program to generate a random number?"
   ]
  },
  {
   "cell_type": "code",
   "execution_count": 22,
   "metadata": {},
   "outputs": [
    {
     "name": "stdout",
     "output_type": "stream",
     "text": [
      "enter the starting number: 4\n",
      "enter the ending number: 90\n",
      "The random number generated between 4 and 90 is: 83\n"
     ]
    }
   ],
   "source": [
    "import random\n",
    "\n",
    "a = int(input(\"enter the starting number: \"))\n",
    "b = int(input(\"enter the ending number: \"))\n",
    "\n",
    "if a > b:\n",
    "    print(\"Enter the ending number greater than starting number\")\n",
    "else:\n",
    "    n = random.randint(a,b)\n",
    "    print(f\"The random number generated between {a} and {b} is: {n}\")"
   ]
  },
  {
   "cell_type": "code",
   "execution_count": null,
   "metadata": {},
   "outputs": [],
   "source": []
  }
 ],
 "metadata": {
  "kernelspec": {
   "display_name": "Python 3",
   "language": "python",
   "name": "python3"
  },
  "language_info": {
   "codemirror_mode": {
    "name": "ipython",
    "version": 3
   },
   "file_extension": ".py",
   "mimetype": "text/x-python",
   "name": "python",
   "nbconvert_exporter": "python",
   "pygments_lexer": "ipython3",
   "version": "3.8.5"
  }
 },
 "nbformat": 4,
 "nbformat_minor": 4
}
