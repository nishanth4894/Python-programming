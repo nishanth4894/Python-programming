{
 "cells": [
  {
   "cell_type": "markdown",
   "id": "7dcc405f",
   "metadata": {},
   "source": [
    "17. Write a function that takes a list of numbers as input and returns a new list containing only the even numbers from the \n",
    "\n",
    "input list. Use list comprehension to solve this problem.\n",
    "\n",
    "Example:\n",
    "\n",
    "Input: [1, 2, 3, 4, 5, 6, 7, 8, 9, 10]\n",
    "\n",
    "Output: [2, 4, 6, 8, 10]\n",
    "\n",
    "10 points\n"
   ]
  },
  {
   "cell_type": "code",
   "execution_count": 6,
   "id": "6e0cf8fe",
   "metadata": {},
   "outputs": [],
   "source": [
    "def even_num_list(*args):\n",
    "    return [x for x in args if x%2==0]"
   ]
  },
  {
   "cell_type": "code",
   "execution_count": 7,
   "id": "6c222da2",
   "metadata": {},
   "outputs": [
    {
     "data": {
      "text/plain": [
       "[2, 4, 6, 8, 10]"
      ]
     },
     "execution_count": 7,
     "metadata": {},
     "output_type": "execute_result"
    }
   ],
   "source": [
    "even_num_list(1, 2, 3, 4, 5, 6, 7, 8, 9, 10)"
   ]
  },
  {
   "cell_type": "markdown",
   "id": "ac956c0a",
   "metadata": {},
   "source": [
    "18. Implement a decorator function called ‘timer’ that measures the execution time of a function. \n",
    "\n",
    "The ‘timer’ decorator should print the time taken by the decorated function to execute. \n",
    "\n",
    "Use the ‘time’ module in Python to calculate the execution time.\n",
    "\n",
    "Example:\n",
    "\n",
    "import time\n",
    "\n",
    "@timer\n",
    "def my_function():\n",
    "    # Function code goes here\n",
    "    time.sleep(2)\n",
    "\n",
    "my_function()\n",
    "\n",
    "Output:\n",
    "\"Execution time: 2.00123 seconds\""
   ]
  },
  {
   "cell_type": "code",
   "execution_count": 18,
   "id": "53df1321",
   "metadata": {},
   "outputs": [],
   "source": [
    "import time\n",
    "\n",
    "def timer(func):\n",
    "    def wrapper(*args,**kwargs):\n",
    "        t1 = time.time()\n",
    "        result=func(*args,**kwargs)\n",
    "        t2=time.time()\n",
    "        print(f\"Execution Time: {t2-t1} seconds\")\n",
    "        return result\n",
    "    return wrapper"
   ]
  },
  {
   "cell_type": "code",
   "execution_count": 19,
   "id": "83e7a4bd",
   "metadata": {},
   "outputs": [],
   "source": [
    "@timer\n",
    "def my_time():\n",
    "    l1 = [1, 2, 3, 4, 5, 6, 7, 8, 9, 10]\n",
    "    for i in l1:\n",
    "        if (i%2==0):\n",
    "            print(i)\n",
    "    time.sleep(2)"
   ]
  },
  {
   "cell_type": "code",
   "execution_count": 20,
   "id": "47735305",
   "metadata": {},
   "outputs": [
    {
     "name": "stdout",
     "output_type": "stream",
     "text": [
      "2\n",
      "4\n",
      "6\n",
      "8\n",
      "10\n",
      "Execution Time: 2.0105834007263184 seconds\n"
     ]
    }
   ],
   "source": [
    "my_time()"
   ]
  },
  {
   "cell_type": "markdown",
   "id": "4b998f15",
   "metadata": {},
   "source": [
    "19. Write a function called ‘calculate_mean’ that takes a list of numbers as input and returns the mean (average) of the numbers. \n",
    "\n",
    "The function should calculate the mean using the sum of the numbers divided by the total count.\n",
    "\n",
    "Example:\n",
    "\n",
    "def calculate_mean(numbers):\n",
    "\n",
    "    total = sum(numbers)\n",
    "    \n",
    "    count = len(numbers)\n",
    "    \n",
    "    mean = total / count\n",
    "    \n",
    "    return mean\n",
    "\n",
    "data = [10, 15, 20, 25, 30]\n",
    "\n",
    "mean_value = calculate_mean(data)\n",
    "\n",
    "print(\"Mean:\", mean_value)\n",
    "\n",
    "Output:\n",
    "\n",
    "Mean: 20.0"
   ]
  },
  {
   "cell_type": "code",
   "execution_count": 37,
   "id": "0d8883e0",
   "metadata": {},
   "outputs": [],
   "source": [
    "def calculate_mean(data):\n",
    "    total=0\n",
    "    for i in data:\n",
    "        total=total+i\n",
    "        count = len(data)\n",
    "        mean = total/count\n",
    "    return mean"
   ]
  },
  {
   "cell_type": "code",
   "execution_count": 38,
   "id": "a3d6afb6",
   "metadata": {},
   "outputs": [
    {
     "name": "stdout",
     "output_type": "stream",
     "text": [
      "Mean 20.0\n"
     ]
    }
   ],
   "source": [
    "data=[10,15,20,25,30]\n",
    "mean_value=calculate_mean(data)\n",
    "print(\"Mean\",mean_value)"
   ]
  },
  {
   "cell_type": "markdown",
   "id": "2082937b",
   "metadata": {},
   "source": [
    "20. Write a function called ‘perform_hypothesis_test’ that takes two lists of numbers as input, representing two samples. \n",
    "\n",
    "The function should perform a two-sample t-test and return the p-value. Use the ‘scipy.stats’ module in Python to calculate \n",
    "\n",
    "the t-test and p-value.\n",
    "\n",
    "Example:\n",
    "\n",
    "from scipy import stats\n",
    "\n",
    "def perform_hypothesis_test(sample1, sample2):\n",
    "    \n",
    "    t_statistic, p_value = stats.ttest_ind(sample1, sample2)\n",
    "    \n",
    "    return p_value\n",
    "\n",
    "sample1 = [5, 10, 15, 20, 25]\n",
    "\n",
    "sample2 = [10, 20, 30, 40, 50]\n",
    "\n",
    "p_value = perform_hypothesis_test(sample1, sample2)\n",
    "\n",
    "print(\"P-value:\", p_value)\n",
    "\n",
    "Output:\n",
    "\n",
    "P-value: 0.1064706396450037"
   ]
  },
  {
   "cell_type": "code",
   "execution_count": 39,
   "id": "976422fc",
   "metadata": {},
   "outputs": [],
   "source": [
    "from scipy import stats\n",
    "\n",
    "def perform_hypothesis_test(sample1,sample2):\n",
    "    t_statistic, p_value = stats.ttest_ind(sample1, sample2) #2-sample t-test\n",
    "    return p_value"
   ]
  },
  {
   "cell_type": "code",
   "execution_count": 42,
   "id": "c8632e3f",
   "metadata": {},
   "outputs": [
    {
     "name": "stdout",
     "output_type": "stream",
     "text": [
      "p-value: {0.3258622143346386}\n"
     ]
    }
   ],
   "source": [
    "sample1 = [10,20,30,25,45,13,0,70]\n",
    "sample2 = [60,30,15,78,123,2,42,0]\n",
    "p_value=perform_hypothesis_test(sample1,sample2)\n",
    "print(f\"p-value:\",{p_value})"
   ]
  },
  {
   "cell_type": "code",
   "execution_count": null,
   "id": "affd599e",
   "metadata": {},
   "outputs": [],
   "source": []
  }
 ],
 "metadata": {
  "kernelspec": {
   "display_name": "Python 3",
   "language": "python",
   "name": "python3"
  },
  "language_info": {
   "codemirror_mode": {
    "name": "ipython",
    "version": 3
   },
   "file_extension": ".py",
   "mimetype": "text/x-python",
   "name": "python",
   "nbconvert_exporter": "python",
   "pygments_lexer": "ipython3",
   "version": "3.9.13"
  }
 },
 "nbformat": 4,
 "nbformat_minor": 5
}
