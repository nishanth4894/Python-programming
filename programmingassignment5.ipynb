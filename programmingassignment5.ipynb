{
 "cells": [
  {
   "cell_type": "markdown",
   "metadata": {},
   "source": [
    "1. Write a Python Program to Find LCM?"
   ]
  },
  {
   "cell_type": "code",
   "execution_count": 7,
   "metadata": {},
   "outputs": [],
   "source": [
    "def calculate_lcm(x,y):\n",
    "    if x > y:\n",
    "        greater = x\n",
    "    else:\n",
    "        greater = y\n",
    "    \n",
    "    while(True):\n",
    "        if (greater % x == 0) and (greater % y == 0):\n",
    "            lcm = greater\n",
    "            break\n",
    "        greater = greater + 1\n",
    "    return lcm    "
   ]
  },
  {
   "cell_type": "code",
   "execution_count": 8,
   "metadata": {},
   "outputs": [
    {
     "data": {
      "text/plain": [
       "216"
      ]
     },
     "execution_count": 8,
     "metadata": {},
     "output_type": "execute_result"
    }
   ],
   "source": [
    "calculate_lcm(24,54)"
   ]
  },
  {
   "cell_type": "markdown",
   "metadata": {},
   "source": [
    "2. Write a Python Program to Find HCF?"
   ]
  },
  {
   "cell_type": "code",
   "execution_count": 9,
   "metadata": {},
   "outputs": [],
   "source": [
    "def calculate_hcf(x,y):\n",
    "    if x > y:\n",
    "        smaller = y\n",
    "    else:\n",
    "        smaller = x\n",
    "    \n",
    "    for i in range(1, smaller + 1):\n",
    "        if (x % i == 0) and (y % i == 0):\n",
    "            hcf = i\n",
    "    return hcf"
   ]
  },
  {
   "cell_type": "code",
   "execution_count": 10,
   "metadata": {},
   "outputs": [
    {
     "data": {
      "text/plain": [
       "2"
      ]
     },
     "execution_count": 10,
     "metadata": {},
     "output_type": "execute_result"
    }
   ],
   "source": [
    "calculate_hcf(4,10)"
   ]
  },
  {
   "cell_type": "markdown",
   "metadata": {},
   "source": [
    "3. Write a Python Program to Convert Decimal to Binary, Octal and Hexadecimal?"
   ]
  },
  {
   "cell_type": "code",
   "execution_count": 14,
   "metadata": {},
   "outputs": [
    {
     "name": "stdout",
     "output_type": "stream",
     "text": [
      "binary value of 10 is : 0b1010\n",
      "Octal value of 10 is : 0o12\n",
      "Hexadecimal value of 10 is : 0xa\n"
     ]
    }
   ],
   "source": [
    "x = 10\n",
    "print(f\"binary value of {x} is :\", bin(x))\n",
    "print(f\"Octal value of {x} is :\", oct(x))\n",
    "print(f\"Hexadecimal value of {x} is :\", hex(x))"
   ]
  },
  {
   "cell_type": "markdown",
   "metadata": {},
   "source": [
    "4. Write a Python Program To Find ASCII value of a character?"
   ]
  },
  {
   "cell_type": "code",
   "execution_count": 19,
   "metadata": {},
   "outputs": [
    {
     "name": "stdout",
     "output_type": "stream",
     "text": [
      "The ASCII value of a is: 97\n"
     ]
    }
   ],
   "source": [
    "x = \"a\"\n",
    "\n",
    "print(f\"The ASCII value of {x} is:\", ord(x))"
   ]
  },
  {
   "cell_type": "markdown",
   "metadata": {},
   "source": [
    "5. Write a Python Program to Make a Simple Calculator with 4 basic mathematical operations?"
   ]
  },
  {
   "cell_type": "code",
   "execution_count": 24,
   "metadata": {},
   "outputs": [
    {
     "name": "stdout",
     "output_type": "stream",
     "text": [
      "enter a number: 4\n",
      "enter another number: 7\n",
      "The sum of 4,7 is: 11\n",
      "The difference of 4,7 is: -3\n",
      "The product of 4,7 is: 28\n",
      "The quotient of 4,7 is: 0.5714285714285714\n"
     ]
    }
   ],
   "source": [
    "x = int(input(\"enter a number: \"))\n",
    "y = int(input(\"enter another number: \"))\n",
    "\n",
    "add = x + y\n",
    "sub = x - y\n",
    "mul = x * y\n",
    "div = x / y\n",
    "print(f\"The sum of {x},{y} is: {add}\")\n",
    "print(f\"The difference of {x},{y} is: {sub}\")\n",
    "print(f\"The product of {x},{y} is: {mul}\")\n",
    "print(f\"The quotient of {x},{y} is: {div}\")"
   ]
  },
  {
   "cell_type": "code",
   "execution_count": null,
   "metadata": {},
   "outputs": [],
   "source": []
  }
 ],
 "metadata": {
  "kernelspec": {
   "display_name": "Python 3",
   "language": "python",
   "name": "python3"
  },
  "language_info": {
   "codemirror_mode": {
    "name": "ipython",
    "version": 3
   },
   "file_extension": ".py",
   "mimetype": "text/x-python",
   "name": "python",
   "nbconvert_exporter": "python",
   "pygments_lexer": "ipython3",
   "version": "3.8.5"
  }
 },
 "nbformat": 4,
 "nbformat_minor": 4
}
