{
 "cells": [
  {
   "cell_type": "code",
   "execution_count": 1,
   "id": "4576a364",
   "metadata": {},
   "outputs": [],
   "source": [
    "# 1. Write a Python program to Extract Unique values dictionary values?"
   ]
  },
  {
   "cell_type": "code",
   "execution_count": 2,
   "id": "0c3a5e5a",
   "metadata": {},
   "outputs": [],
   "source": [
    "d1= {\n",
    " 'A' : [1, 3, 5, 4],\n",
    "'B' : [4, 6, 8, 10],\n",
    "'C' : [6, 12, 4 ,8],\n",
    "'D' : [5, 7, 2]\n",
    "}"
   ]
  },
  {
   "cell_type": "code",
   "execution_count": 3,
   "id": "2cab5f6d",
   "metadata": {},
   "outputs": [
    {
     "name": "stdout",
     "output_type": "stream",
     "text": [
      "{1, 2, 3, 4, 5, 6, 7, 8, 10, 12}\n"
     ]
    }
   ],
   "source": [
    "l = []\n",
    "flat_list=[]\n",
    "\n",
    "for i in d1.values():\n",
    "    l.append(i)\n",
    "\n",
    "for j in l:\n",
    "    for k in j:\n",
    "        flat_list.append(k)\n",
    "unique_values = set(flat_list)\n",
    "\n",
    "print(unique_values)\n",
    "\n"
   ]
  },
  {
   "cell_type": "code",
   "execution_count": 4,
   "id": "b8c1d243",
   "metadata": {},
   "outputs": [],
   "source": [
    "# 2. Write a Python program to find the sum of all items in a dictionary?"
   ]
  },
  {
   "cell_type": "code",
   "execution_count": 5,
   "id": "a938d889",
   "metadata": {},
   "outputs": [
    {
     "name": "stdout",
     "output_type": "stream",
     "text": [
      "85\n"
     ]
    }
   ],
   "source": [
    "flat_list\n",
    "\n",
    "su_m=0\n",
    "\n",
    "for i in flat_list:\n",
    "    su_m=i+su_m\n",
    "print(su_m)"
   ]
  },
  {
   "cell_type": "code",
   "execution_count": 6,
   "id": "e88ad58b",
   "metadata": {},
   "outputs": [],
   "source": [
    "# 3. Write a Python program to Merging two Dictionaries?"
   ]
  },
  {
   "cell_type": "code",
   "execution_count": 7,
   "id": "e799e7ef",
   "metadata": {},
   "outputs": [],
   "source": [
    "d1 = {\"A\":\"hello\",\"B\":\"World\"}\n",
    "d2 = {\"C\":\"Welcome\", \"D\":\"to\",\"E\":\"Python\"}"
   ]
  },
  {
   "cell_type": "code",
   "execution_count": 8,
   "id": "d0c12feb",
   "metadata": {},
   "outputs": [],
   "source": [
    "d1.update(d2)"
   ]
  },
  {
   "cell_type": "code",
   "execution_count": 9,
   "id": "4a16ca12",
   "metadata": {},
   "outputs": [],
   "source": [
    "# 4. Write a Python program to convert key-values list to flat dictionary?"
   ]
  },
  {
   "cell_type": "code",
   "execution_count": 14,
   "id": "250ce059",
   "metadata": {},
   "outputs": [
    {
     "name": "stdout",
     "output_type": "stream",
     "text": [
      "{'key1': 'pair1', 'key2': 'pair2', 'key3': 'pair3'}\n"
     ]
    }
   ],
   "source": [
    "l1 = [(\"key1\",\"pair1\"),(\"key2\",\"pair2\"),(\"key3\",\"pair3\")]\n",
    "flat_dict = dict()\n",
    "\n",
    "for i in l1:\n",
    "    if len(i)==2:\n",
    "        key,pair=i\n",
    "        flat_dict[key]=pair\n",
    "    else:\n",
    "        print(\"invalid key-value pair\")\n",
    "print(flat_dict)"
   ]
  },
  {
   "cell_type": "code",
   "execution_count": 15,
   "id": "cce9e60e",
   "metadata": {},
   "outputs": [],
   "source": [
    "#5. Write a Python program to insertion at the beginning in OrderedDict?"
   ]
  },
  {
   "cell_type": "code",
   "execution_count": 29,
   "id": "1b381c94",
   "metadata": {},
   "outputs": [
    {
     "name": "stdout",
     "output_type": "stream",
     "text": [
      "{'F': 'Project', 'A': 'hello', 'B': 'World', 'C': 'Welcome', 'D': 'to', 'E': 'Python'}\n"
     ]
    }
   ],
   "source": [
    "from collections import OrderedDict\n",
    "\n",
    "d={'A': 'hello',\n",
    " 'B': 'World',\n",
    " 'C': 'Welcome',\n",
    " 'D': 'to',\n",
    " 'E': 'Python',\n",
    "}\n",
    "\n",
    "ordered_dict = OrderedDict(d)\n",
    "ordered_dict.update({\"F\":\"Project\"})\n",
    "ordered_dict.move_to_end(\"F\",last=False)\n",
    "print(dict(ordered_dict))"
   ]
  },
  {
   "cell_type": "code",
   "execution_count": 30,
   "id": "7c2a67aa",
   "metadata": {},
   "outputs": [],
   "source": [
    "# 6. Write a Python program to check order of character in string using OrderedDict()?"
   ]
  },
  {
   "cell_type": "code",
   "execution_count": 44,
   "id": "e5940f33",
   "metadata": {},
   "outputs": [
    {
     "name": "stdout",
     "output_type": "stream",
     "text": [
      "The order of characters in the string 'hello' is correct: False\n"
     ]
    }
   ],
   "source": [
    "from collections import OrderedDict\n",
    "\n",
    "def check_order_of_characters(string):\n",
    "    char_order = OrderedDict()\n",
    "\n",
    "    for char in string:\n",
    "        if char not in char_order:\n",
    "            char_order[char] = None\n",
    "\n",
    "    ordered_keys = \"\".join(char_order.keys())\n",
    "\n",
    "    if ordered_keys == string:\n",
    "        return True\n",
    "    else:\n",
    "        return False\n",
    "\n",
    "\n",
    "input_string = \"hello\"\n",
    "result = check_order_of_characters(input_string)\n",
    "print(f\"The order of characters in the string '{input_string}' is correct: {result}\")"
   ]
  },
  {
   "cell_type": "code",
   "execution_count": 45,
   "id": "21100541",
   "metadata": {},
   "outputs": [],
   "source": [
    "# 7. Write a Python program to sort Python Dictionaries by Key or Value?"
   ]
  },
  {
   "cell_type": "code",
   "execution_count": 46,
   "id": "c1ae9b53",
   "metadata": {},
   "outputs": [],
   "source": [
    "my_dict = {\"banana\": 3, \"apple\": 2, \"orange\": 1}"
   ]
  },
  {
   "cell_type": "code",
   "execution_count": 51,
   "id": "01a16e3b",
   "metadata": {},
   "outputs": [
    {
     "name": "stdout",
     "output_type": "stream",
     "text": [
      "{'apple': 2, 'banana': 3, 'orange': 1}\n"
     ]
    }
   ],
   "source": [
    "sorted_dict=dict()\n",
    "#sorted dict using keys\n",
    "for key in sorted(my_dict.keys()):\n",
    "    sorted_dict[key]=my_dict[key]\n",
    "print(sorted_dict)"
   ]
  },
  {
   "cell_type": "code",
   "execution_count": 63,
   "id": "584ec083",
   "metadata": {},
   "outputs": [
    {
     "name": "stdout",
     "output_type": "stream",
     "text": [
      "{'orange': 1, 'apple': 2, 'banana': 3}\n"
     ]
    }
   ],
   "source": [
    "#sorted dict using values\n",
    "sort_dict=dict()\n",
    "for key, value in sorted(my_dict.items(), key=lambda item:item[1]):\n",
    "    sort_dict[key]=value\n",
    "print(sort_dict)"
   ]
  },
  {
   "cell_type": "code",
   "execution_count": null,
   "id": "fe682e74",
   "metadata": {},
   "outputs": [],
   "source": []
  }
 ],
 "metadata": {
  "kernelspec": {
   "display_name": "Python 3",
   "language": "python",
   "name": "python3"
  },
  "language_info": {
   "codemirror_mode": {
    "name": "ipython",
    "version": 3
   },
   "file_extension": ".py",
   "mimetype": "text/x-python",
   "name": "python",
   "nbconvert_exporter": "python",
   "pygments_lexer": "ipython3",
   "version": "3.9.13"
  }
 },
 "nbformat": 4,
 "nbformat_minor": 5
}
