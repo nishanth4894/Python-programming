{
 "cells": [
  {
   "cell_type": "code",
   "execution_count": 1,
   "id": "4e837f59",
   "metadata": {},
   "outputs": [],
   "source": [
    "# 1. Write a Python Program to Add Two Matrices?"
   ]
  },
  {
   "cell_type": "code",
   "execution_count": 10,
   "id": "a1e4a9f0",
   "metadata": {},
   "outputs": [
    {
     "name": "stdout",
     "output_type": "stream",
     "text": [
      "[11, 13, 15]\n",
      "[17, 19, 21]\n",
      "[23, 25, 27]\n"
     ]
    }
   ],
   "source": [
    "X = [[1,2,3],\n",
    "    [4 ,5,6],\n",
    "    [7 ,8,9]]\n",
    " \n",
    "Y = [[10,11,12],\n",
    "    [13,14,15],\n",
    "    [16,17,18]]\n",
    " \n",
    "result = [[0,0,0],\n",
    "         [0,0,0],\n",
    "         [0,0,0]]\n",
    "\n",
    "for i in range(len(X)):\n",
    "    for j in range(len(Y)):\n",
    "        result[i][j] = X[i][j] + Y[i][j]\n",
    "for r in result:\n",
    "    print(r)\n",
    "        "
   ]
  },
  {
   "cell_type": "code",
   "execution_count": 11,
   "id": "bcf9f988",
   "metadata": {},
   "outputs": [],
   "source": [
    "# 2. Write a Python Program to Multiply Two Matrices?"
   ]
  },
  {
   "cell_type": "code",
   "execution_count": 13,
   "id": "056fd6b8",
   "metadata": {},
   "outputs": [
    {
     "name": "stdout",
     "output_type": "stream",
     "text": [
      "[3, 4, 3]\n",
      "[24, 25, 24]\n",
      "[63, 64, 63]\n"
     ]
    }
   ],
   "source": [
    "X = [[1,2,3],\n",
    "    [4,5,6],\n",
    "    [7,8,9]]\n",
    "\n",
    "Y = [[3,2,1],\n",
    "    [6,5,4],\n",
    "    [9,8,7]]\n",
    "\n",
    "result = [[0,0,0],\n",
    "         [0,0,0],\n",
    "         [0,0,0]]\n",
    "\n",
    "for i in range(len(X)):\n",
    "    for j in range(len(Y)):\n",
    "        result[i][j] = result[i][j] + (X[i][j] * Y[i][j])\n",
    "        \n",
    "for r in result:\n",
    "    print(r)"
   ]
  },
  {
   "cell_type": "code",
   "execution_count": 14,
   "id": "5f55f9bb",
   "metadata": {},
   "outputs": [],
   "source": [
    "# 3. Write a Python Program to Transpose a Matrix?"
   ]
  },
  {
   "cell_type": "code",
   "execution_count": 16,
   "id": "22b5f806",
   "metadata": {},
   "outputs": [
    {
     "name": "stdout",
     "output_type": "stream",
     "text": [
      "[12, 4, 3]\n",
      "[7, 5, 8]\n",
      "[6, 9, 16]\n"
     ]
    }
   ],
   "source": [
    "X = [[12,7,6],\n",
    "    [4,5,9],\n",
    "    [3,8,16]]\n",
    "\n",
    "result = [[0,0,0],\n",
    "         [0,0,0],\n",
    "         [0,0,0]]\n",
    "\n",
    "\n",
    "for i in range(len(X)):\n",
    "    for j in range(len(X[0])):\n",
    "        result[j][i] = X[i][j]\n",
    "\n",
    "for r in result:\n",
    "    print(r)"
   ]
  },
  {
   "cell_type": "code",
   "execution_count": 17,
   "id": "b81c48a3",
   "metadata": {},
   "outputs": [],
   "source": [
    "# 4. Write a Python Program to Sort Words in Alphabetic Order?"
   ]
  },
  {
   "cell_type": "code",
   "execution_count": 44,
   "id": "dd42b424",
   "metadata": {},
   "outputs": [
    {
     "name": "stdout",
     "output_type": "stream",
     "text": [
      "The sorted words are:\n",
      "a\n",
      "code\n",
      "design\n",
      "emphasizes\n",
      "general-purpose\n",
      "high-level,\n",
      "indentation\n",
      "is\n",
      "its\n",
      "language.\n",
      "of\n",
      "off-side\n",
      "philosophy\n",
      "programming\n",
      "python\n",
      "readability\n",
      "rule.\n",
      "significant\n",
      "the\n",
      "the\n",
      "use\n",
      "via\n",
      "with\n"
     ]
    }
   ],
   "source": [
    "my_str = \"Python is a high-level, general-purpose programming language. Its design philosophy emphasizes code readability with the use of significant indentation via the off-side rule.\"\n",
    "\n",
    "\n",
    "words = [word.lower() for word in my_str.split()]\n",
    "\n",
    "\n",
    "words.sort()\n",
    "\n",
    "\n",
    "print(\"The sorted words are:\")\n",
    "for word in words:\n",
    "    print(word)\n"
   ]
  },
  {
   "cell_type": "code",
   "execution_count": 45,
   "id": "462f34b1",
   "metadata": {},
   "outputs": [],
   "source": [
    "# 5. Write a Python Program to Remove Punctuation From a String?"
   ]
  },
  {
   "cell_type": "code",
   "execution_count": 50,
   "id": "ba83ec50",
   "metadata": {},
   "outputs": [
    {
     "name": "stdout",
     "output_type": "stream",
     "text": [
      "The original string is : The Indian Premier League (IPL) is a professional Twenty20 cricket league in India, founded by the Board of Control for Cricket in India (BCCI) in 2007. The league consists of eight teams representing different cities in India, and each team plays against each other in a double round-robin format. The top four teams then advance to the playoffs, culminating in the IPL final. The IPL has quickly become one of the most popular and lucrative sporting leagues in the world, with high-profile players from all over the globe participating in the tournament. The league is known for its fast-paced and entertaining style of cricket, as well as its innovative use of technology, including player auctions, strategic time-outs, and the Decision Review System (DRS). The IPL has also had a significant impact on the development of cricket in India, with the league providing a platform for young Indian players to showcase their skills alongside some of the best players in the world. The league has also generated significant revenue for the BCCI and the participating teams, with lucrative sponsorship and broadcasting deals helping to make the IPL one of the most valuable sporting properties in the world.\n",
      "The string after punctuation filter : The Indian Premier League IPL is a professional Twenty20 cricket league in India founded by the Board of Control for Cricket in India BCCI in 2007 The league consists of eight teams representing different cities in India and each team plays against each other in a double roundrobin format The top four teams then advance to the playoffs culminating in the IPL final The IPL has quickly become one of the most popular and lucrative sporting leagues in the world with highprofile players from all over the globe participating in the tournament The league is known for its fastpaced and entertaining style of cricket as well as its innovative use of technology including player auctions strategic timeouts and the Decision Review System DRS The IPL has also had a significant impact on the development of cricket in India with the league providing a platform for young Indian players to showcase their skills alongside some of the best players in the world The league has also generated significant revenue for the BCCI and the participating teams with lucrative sponsorship and broadcasting deals helping to make the IPL one of the most valuable sporting properties in the world\n"
     ]
    }
   ],
   "source": [
    "my_str = \"The Indian Premier League (IPL) is a professional Twenty20 cricket league in India, founded by the Board of Control for Cricket in India (BCCI) in 2007. The league consists of eight teams representing different cities in India, and each team plays against each other in a double round-robin format. The top four teams then advance to the playoffs, culminating in the IPL final. The IPL has quickly become one of the most popular and lucrative sporting leagues in the world, with high-profile players from all over the globe participating in the tournament. The league is known for its fast-paced and entertaining style of cricket, as well as its innovative use of technology, including player auctions, strategic time-outs, and the Decision Review System (DRS). The IPL has also had a significant impact on the development of cricket in India, with the league providing a platform for young Indian players to showcase their skills alongside some of the best players in the world. The league has also generated significant revenue for the BCCI and the participating teams, with lucrative sponsorship and broadcasting deals helping to make the IPL one of the most valuable sporting properties in the world.\"\n",
    "\n",
    "print(\"The original string is : \" + my_str)\n",
    "\n",
    "punc= '''!()-[]{};:'\"\\,<>./?@#$%^&*_~'''\n",
    "\n",
    "for ele in my_str:\n",
    "    if ele in punc:\n",
    "        my_str = my_str.replace(ele,\"\")\n",
    "print(\"The string after punctuation filter : \" + my_str)"
   ]
  },
  {
   "cell_type": "code",
   "execution_count": null,
   "id": "c6ad539a",
   "metadata": {},
   "outputs": [],
   "source": []
  }
 ],
 "metadata": {
  "kernelspec": {
   "display_name": "Python 3",
   "language": "python",
   "name": "python3"
  },
  "language_info": {
   "codemirror_mode": {
    "name": "ipython",
    "version": 3
   },
   "file_extension": ".py",
   "mimetype": "text/x-python",
   "name": "python",
   "nbconvert_exporter": "python",
   "pygments_lexer": "ipython3",
   "version": "3.9.13"
  }
 },
 "nbformat": 4,
 "nbformat_minor": 5
}
