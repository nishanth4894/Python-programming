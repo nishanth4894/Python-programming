{
 "cells": [
  {
   "cell_type": "code",
   "execution_count": 1,
   "id": "9f09a692",
   "metadata": {},
   "outputs": [],
   "source": [
    "# 1. Write a Python Program to find sum of array?"
   ]
  },
  {
   "cell_type": "code",
   "execution_count": 2,
   "id": "ee1c5d8f",
   "metadata": {},
   "outputs": [],
   "source": [
    "def sum_array(arr):\n",
    "    sum = 0\n",
    "    for i in arr:\n",
    "        sum = sum + i\n",
    "    return sum"
   ]
  },
  {
   "cell_type": "code",
   "execution_count": 3,
   "id": "6749ea62",
   "metadata": {},
   "outputs": [
    {
     "data": {
      "text/plain": [
       "21.000045666"
      ]
     },
     "execution_count": 3,
     "metadata": {},
     "output_type": "execute_result"
    }
   ],
   "source": [
    "a_array = [1,4,7,1,8,0.000045666]\n",
    "sum_array(a_array)"
   ]
  },
  {
   "cell_type": "code",
   "execution_count": 4,
   "id": "f0cf8be0",
   "metadata": {},
   "outputs": [],
   "source": [
    "# 2. Write a Python Program to find largest element in an array?"
   ]
  },
  {
   "cell_type": "code",
   "execution_count": 8,
   "id": "17217905",
   "metadata": {},
   "outputs": [],
   "source": [
    "def lar_num(a):\n",
    "    large = a[0]\n",
    "    for i in a:\n",
    "        if i > large:\n",
    "            large=i\n",
    "    return large"
   ]
  },
  {
   "cell_type": "code",
   "execution_count": 9,
   "id": "ddb13b96",
   "metadata": {},
   "outputs": [
    {
     "data": {
      "text/plain": [
       "8"
      ]
     },
     "execution_count": 9,
     "metadata": {},
     "output_type": "execute_result"
    }
   ],
   "source": [
    "a_array = [1,4,7,1,8,0.000045666]\n",
    "lar_num(a_array)"
   ]
  },
  {
   "cell_type": "code",
   "execution_count": 10,
   "id": "9da2ad1e",
   "metadata": {},
   "outputs": [],
   "source": [
    "# 3. Write a Python Program for array rotation?"
   ]
  },
  {
   "cell_type": "code",
   "execution_count": 22,
   "id": "f0c23650",
   "metadata": {},
   "outputs": [],
   "source": [
    "def rotateList(arr,d,n):\n",
    "  arr[:]=arr[d:n]+arr[0:d]\n",
    "  return arr"
   ]
  },
  {
   "cell_type": "code",
   "execution_count": 23,
   "id": "d913f776",
   "metadata": {},
   "outputs": [
    {
     "data": {
      "text/plain": [
       "[3, 4, 5, 6, 7, 1, 2]"
      ]
     },
     "execution_count": 23,
     "metadata": {},
     "output_type": "execute_result"
    }
   ],
   "source": [
    "arr = [1, 2, 3, 4, 5, 6, 7]\n",
    "rotateList(arr, 2, len(arr))"
   ]
  },
  {
   "cell_type": "code",
   "execution_count": 24,
   "id": "3dee19ac",
   "metadata": {},
   "outputs": [],
   "source": [
    "#4. Write a Python Program to Split the array and add the first part to the end?"
   ]
  },
  {
   "cell_type": "code",
   "execution_count": 33,
   "id": "afe225b5",
   "metadata": {},
   "outputs": [
    {
     "name": "stdout",
     "output_type": "stream",
     "text": [
      "4  5  6  7  8  1  2  3  "
     ]
    }
   ],
   "source": [
    "arr = [1,2,3,4,5,6,7,8]\n",
    "n = len(arr)\n",
    "pos = 3\n",
    "x = arr[:pos]\n",
    "y = arr[pos:]\n",
    "y.extend(x)\n",
    "for i in y:\n",
    "    print(i,end=\"  \")"
   ]
  },
  {
   "cell_type": "code",
   "execution_count": 34,
   "id": "a73af36c",
   "metadata": {},
   "outputs": [],
   "source": [
    "#5. Write a Python Program to check if given array is Monotonic?"
   ]
  },
  {
   "cell_type": "code",
   "execution_count": 39,
   "id": "c37f6e4f",
   "metadata": {},
   "outputs": [],
   "source": [
    "def ismonotonic(arr):\n",
    "    x=list()\n",
    "    y=list()\n",
    "    x.extend(arr)\n",
    "    y.extend(arr)\n",
    "    x.sort()\n",
    "    y.sort(reverse=True)\n",
    "    if(x==arr or y == arr):\n",
    "        return True\n",
    "    return False"
   ]
  },
  {
   "cell_type": "code",
   "execution_count": 40,
   "id": "fbd1eacb",
   "metadata": {},
   "outputs": [
    {
     "name": "stdout",
     "output_type": "stream",
     "text": [
      "True\n"
     ]
    }
   ],
   "source": [
    "A = [6, 5, 4, 4]\n",
    "print(ismonotonic(A))"
   ]
  },
  {
   "cell_type": "code",
   "execution_count": null,
   "id": "d740f7aa",
   "metadata": {},
   "outputs": [],
   "source": []
  }
 ],
 "metadata": {
  "kernelspec": {
   "display_name": "Python 3",
   "language": "python",
   "name": "python3"
  },
  "language_info": {
   "codemirror_mode": {
    "name": "ipython",
    "version": 3
   },
   "file_extension": ".py",
   "mimetype": "text/x-python",
   "name": "python",
   "nbconvert_exporter": "python",
   "pygments_lexer": "ipython3",
   "version": "3.9.13"
  }
 },
 "nbformat": 4,
 "nbformat_minor": 5
}
