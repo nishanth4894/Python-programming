{
 "cells": [
  {
   "cell_type": "markdown",
   "id": "a0630e68",
   "metadata": {},
   "source": [
    "Question 1:\n",
    "\n",
    "Write a program that calculates and prints the value according to the given formula:\n",
    "Q = Square root of [(2 * C * D)/H]\n",
    "\n",
    "Following are the fixed values of C and H:\n",
    "C is 50. H is 30.\n",
    "\n",
    "D is the variable whose values should be input to your program in a comma-separated\n",
    "sequence.\n",
    "\n",
    "Example\n",
    "Let us assume the following comma separated input sequence is given to the program:\n",
    "100,150,180\n",
    "\n",
    "The output of the program should be:\n",
    "18,22,24"
   ]
  },
  {
   "cell_type": "code",
   "execution_count": 1,
   "id": "989cfdc3",
   "metadata": {},
   "outputs": [
    {
     "name": "stdout",
     "output_type": "stream",
     "text": [
      "100\n",
      "150\n",
      "180\n",
      "18 22 24\n"
     ]
    }
   ],
   "source": [
    "from math import sqrt\n",
    "\n",
    "C=50\n",
    "H=30\n",
    "D1=int(input())\n",
    "D2=int(input())\n",
    "D3=int(input())\n",
    "\n",
    "Q1=round(sqrt(2*C*D1/H))\n",
    "Q2=round(sqrt(2*C*D2/H))\n",
    "Q3=round(sqrt(2*C*D3/H))\n",
    "print(Q1,Q2,Q3)"
   ]
  },
  {
   "cell_type": "markdown",
   "id": "8b672c63",
   "metadata": {},
   "source": [
    "Question 2:\n",
    "Write a program which takes 2 digits, X,Y as input and generates a 2-dimensional array. \n",
    "\n",
    "The element value in the i-th row and j-th column of the array should be i*j.\n",
    "\n",
    "Note: i=0,1.., X-1; j=0,1,¡Y-1.\n",
    "\n",
    "Example\n",
    "\n",
    "Suppose the following inputs are given to the program:\n",
    "\n",
    "3,5\n",
    "\n",
    "Then, the output of the program should be:\n",
    "\n",
    "[[0, 0, 0, 0, 0], [0, 1, 2, 3, 4], [0, 2, 4, 6, 8]]"
   ]
  },
  {
   "cell_type": "code",
   "execution_count": 2,
   "id": "10cfed1b",
   "metadata": {},
   "outputs": [],
   "source": [
    "def generate_array(X,Y):\n",
    "    array_2d=[]\n",
    "    for i in range(X):\n",
    "        row=[]\n",
    "        for j in range(Y):\n",
    "            row.append(i*j)\n",
    "        array_2d.append(row)\n",
    "    return array_2d\n",
    "        "
   ]
  },
  {
   "cell_type": "code",
   "execution_count": 3,
   "id": "620c58b7",
   "metadata": {},
   "outputs": [
    {
     "name": "stdout",
     "output_type": "stream",
     "text": [
      "Enter the number of rows (X): 3\n",
      "Enter the number of columns (Y): 5\n",
      "[0, 0, 0, 0, 0]\n",
      "[0, 1, 2, 3, 4]\n",
      "[0, 2, 4, 6, 8]\n"
     ]
    }
   ],
   "source": [
    "X = int(input(\"Enter the number of rows (X): \"))\n",
    "Y = int(input(\"Enter the number of columns (Y): \"))\n",
    "\n",
    "result = generate_array(X, Y)\n",
    "for row in result:\n",
    "    print(row)"
   ]
  },
  {
   "cell_type": "markdown",
   "id": "519e0929",
   "metadata": {},
   "source": [
    "Question 3:\n",
    "\n",
    "Write a program that accepts a comma separated sequence of words as input and prints the\n",
    "words in a comma-separated sequence after sorting them alphabetically.\n",
    "\n",
    "Suppose the following input is supplied to the program:\n",
    "\n",
    "without,hello,bag,world\n",
    "\n",
    "Then, the output should be:\n",
    "\n",
    "bag,hello,without,world"
   ]
  },
  {
   "cell_type": "code",
   "execution_count": 4,
   "id": "ac5bf45d",
   "metadata": {},
   "outputs": [
    {
     "name": "stdout",
     "output_type": "stream",
     "text": [
      "bag,hello,without,world\n"
     ]
    }
   ],
   "source": [
    "words=\"without,hello,bag,world\"\n",
    "words=words.split(\",\")\n",
    "sorted_words=sorted(words)\n",
    "sorted_word_seq=\",\".join(sorted_words)\n",
    "print(sorted_word_seq)"
   ]
  },
  {
   "cell_type": "markdown",
   "id": "53de28b8",
   "metadata": {},
   "source": [
    "Question 4:\n",
    "    \n",
    "Write a program that accepts a sequence of whitespace separated words as input and prints\n",
    "the words after removing all duplicate words and sorting them alphanumerically.\n",
    "\n",
    "Suppose the following input is supplied to the program:\n",
    "    \n",
    "hello world and practice makes perfect and hello world again\n",
    "\n",
    "Then, the output should be:\n",
    "\n",
    "again and hello makes perfect practice world"
   ]
  },
  {
   "cell_type": "code",
   "execution_count": 5,
   "id": "d2b9e495",
   "metadata": {},
   "outputs": [
    {
     "name": "stdout",
     "output_type": "stream",
     "text": [
      "again and hello makes perfect practice world\n"
     ]
    }
   ],
   "source": [
    "words=\"hello world and practice makes perfect and hello world again\"\n",
    "words=words.split(\" \")\n",
    "words_set=set(words)\n",
    "words_list=list(words_set)\n",
    "sort_seq=sorted(words_list)\n",
    "sorted_word_seq=\" \".join(sort_seq)\n",
    "print(sorted_word_seq)"
   ]
  },
  {
   "cell_type": "markdown",
   "id": "d5e3e424",
   "metadata": {},
   "source": [
    "Question 5:\n",
    "\n",
    "Write a program that accepts a sentence and calculate the number of letters and digits.\n",
    "\n",
    "Suppose the following input is supplied to the program:\n",
    "\n",
    "hello world! 123\n",
    "\n",
    "Then, the output should be:\n",
    "\n",
    "LETTERS 10\n",
    "\n",
    "DIGITS 3"
   ]
  },
  {
   "cell_type": "code",
   "execution_count": 6,
   "id": "d7b553fc",
   "metadata": {},
   "outputs": [
    {
     "name": "stdout",
     "output_type": "stream",
     "text": [
      "Enter a sentence: hello world! 123\n",
      "Number of letters: 10\n",
      "Number of digits: 3\n"
     ]
    }
   ],
   "source": [
    "def count_letters_digit(string):\n",
    "    letter_count=0\n",
    "    digit_count=0\n",
    "    \n",
    "    for char in string:\n",
    "        if char.isalpha():\n",
    "            letter_count=letter_count+1\n",
    "        elif char.isdigit():\n",
    "            digit_count=digit_count+1\n",
    "    \n",
    "    return letter_count,digit_count\n",
    "\n",
    "input_sentence = input(\"Enter a sentence: \")\n",
    "letters, digits = count_letters_digit(input_sentence)\n",
    "print(\"Number of letters:\", letters)\n",
    "print(\"Number of digits:\", digits)           "
   ]
  },
  {
   "cell_type": "markdown",
   "id": "9ad0ce61",
   "metadata": {},
   "source": [
    "Question 6:\n",
    "\n",
    "A website requires the users to input username and password to register. \n",
    "\n",
    "Write a program to check the validity of password input by users.\n",
    "\n",
    "Following are the criteria for checking the password:\n",
    "\n",
    "1. At least 1 letter between [a-z]\n",
    "\n",
    "2. At least 1 number between [0-9]\n",
    "\n",
    "1. At least 1 letter between [A-Z]\n",
    "\n",
    "3. At least 1 character from [$#@]\n",
    "\n",
    "4. Minimum length of transaction password: 6\n",
    "\n",
    "5. Maximum length of transaction password: 12\n",
    "\n",
    "Your program should accept a sequence of comma separated passwords and will check them\n",
    "according to the above criteria. Passwords that match the criteria are to be printed, each\n",
    "separated by a comma.\n",
    "\n",
    "Example\n",
    "\n",
    "If the following passwords are given as input to the program:\n",
    "\n",
    "ABd1234@1,a F1#,2w3E*,2We3345\n",
    "\n",
    "Then, the output of the program should be:\n",
    "\n",
    "ABd1234@1"
   ]
  },
  {
   "cell_type": "code",
   "execution_count": 10,
   "id": "548b8622",
   "metadata": {},
   "outputs": [
    {
     "name": "stdout",
     "output_type": "stream",
     "text": [
      "Enter comma separated passwords: ABd1234@1\n",
      "Valid passwords:  ABd1234@1\n"
     ]
    }
   ],
   "source": [
    "import re\n",
    "\n",
    "def validate_password(password):\n",
    "    if re.match(r\"^(?=.*[a-z])(?=.*[A-Z])(?=.*\\d)(?=.*[$#@]).{6,12}$\", password):\n",
    "        return True\n",
    "    else:\n",
    "        return False\n",
    "    \n",
    "def check_passwords(passwords):\n",
    "    valid_passwords = []\n",
    "    password_list = passwords.split(\",\")\n",
    "\n",
    "    for password in password_list:\n",
    "        password = password.strip()\n",
    "        if validate_password(password):\n",
    "            valid_passwords.append(password)\n",
    "\n",
    "    return \", \".join(valid_passwords)\n",
    "\n",
    "passwords_input = input(\"Enter comma separated passwords: \")\n",
    "valid_passwords_output = check_passwords(passwords_input)\n",
    "print(\"Valid passwords: \", valid_passwords_output)"
   ]
  },
  {
   "cell_type": "code",
   "execution_count": 12,
   "id": "f1ca342c",
   "metadata": {},
   "outputs": [
    {
     "name": "stdout",
     "output_type": "stream",
     "text": [
      "Enter comma separated passwords: ABd1234@1,a F1#,2w3E*,2We3345\n",
      "Valid passwords:  ABd1234@1\n"
     ]
    }
   ],
   "source": [
    "passwords_input = input(\"Enter comma separated passwords: \")\n",
    "valid_passwords_output = check_passwords(passwords_input)\n",
    "print(\"Valid passwords: \", valid_passwords_output)"
   ]
  },
  {
   "cell_type": "code",
   "execution_count": null,
   "id": "5eb634c3",
   "metadata": {},
   "outputs": [],
   "source": []
  }
 ],
 "metadata": {
  "kernelspec": {
   "display_name": "Python 3",
   "language": "python",
   "name": "python3"
  },
  "language_info": {
   "codemirror_mode": {
    "name": "ipython",
    "version": 3
   },
   "file_extension": ".py",
   "mimetype": "text/x-python",
   "name": "python",
   "nbconvert_exporter": "python",
   "pygments_lexer": "ipython3",
   "version": "3.9.13"
  }
 },
 "nbformat": 4,
 "nbformat_minor": 5
}
