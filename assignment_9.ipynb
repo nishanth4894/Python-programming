{
 "cells": [
  {
   "cell_type": "code",
   "execution_count": 2,
   "id": "77f44ea1",
   "metadata": {},
   "outputs": [],
   "source": [
    "# 1. Write a Python program to check if the given number is a Disarium Number?"
   ]
  },
  {
   "cell_type": "code",
   "execution_count": 3,
   "id": "782eb3f2",
   "metadata": {},
   "outputs": [],
   "source": [
    "def is_disarium(num):\n",
    "    \n",
    "    num_str = str(num)\n",
    "    \n",
    "    \n",
    "    sum_of_digits = 0\n",
    "    for i in range(len(num_str)):\n",
    "        sum_of_digits = sum_of_digits + int(num_str[i])**(i+1)\n",
    "    \n",
    "    \n",
    "    if sum_of_digits == num:\n",
    "        return True\n",
    "    else:\n",
    "        return False\n"
   ]
  },
  {
   "cell_type": "code",
   "execution_count": 4,
   "id": "bb9333b4",
   "metadata": {},
   "outputs": [
    {
     "name": "stdout",
     "output_type": "stream",
     "text": [
      "135 is a Disarium Number\n"
     ]
    }
   ],
   "source": [
    "num = 135\n",
    "if is_disarium(num):\n",
    "    print(num, \"is a Disarium Number\")\n",
    "else:\n",
    "    print(num, \"is not a Disarium Number\")"
   ]
  },
  {
   "cell_type": "code",
   "execution_count": 5,
   "id": "2aa4cd52",
   "metadata": {},
   "outputs": [],
   "source": [
    "# 2. Write a Python program to print all disarium numbers between 1 to 100?"
   ]
  },
  {
   "cell_type": "code",
   "execution_count": 19,
   "id": "cd6a5901",
   "metadata": {},
   "outputs": [
    {
     "name": "stdout",
     "output_type": "stream",
     "text": [
      "Disarium numbers between 1 and 100 are:\n",
      "1\n",
      "2\n",
      "3\n",
      "4\n",
      "5\n",
      "6\n",
      "7\n",
      "8\n",
      "9\n",
      "89\n"
     ]
    }
   ],
   "source": [
    "def is_disarium(n):\n",
    "    length = len(str(n))\n",
    "    sum = 0\n",
    "    temp = int(n)\n",
    "    while temp > 0:\n",
    "        digit = temp % 10\n",
    "        sum = sum + digit ** length\n",
    "        length = length - 1\n",
    "        temp = temp // 10\n",
    "    return (sum == n)\n",
    "\n",
    "print(\"Disarium numbers between 1 and 100 are:\")\n",
    "for i in range(1, 101):\n",
    "    if is_disarium(i):\n",
    "        print(i)"
   ]
  },
  {
   "cell_type": "code",
   "execution_count": 21,
   "id": "5a12cc62",
   "metadata": {},
   "outputs": [],
   "source": [
    "# 3. Write a Python program to check if the given number is Happy Number?"
   ]
  },
  {
   "cell_type": "code",
   "execution_count": 29,
   "id": "1712c13d",
   "metadata": {},
   "outputs": [],
   "source": [
    "def happy_num(num):\n",
    "    rem = 0\n",
    "    su_m = 0\n",
    "    \n",
    "    while (num > 0):\n",
    "        rem = num % 10\n",
    "        su_m = su_m + (rem*rem)\n",
    "        num = num // 10\n",
    "    return su_m"
   ]
  },
  {
   "cell_type": "code",
   "execution_count": 30,
   "id": "14e587f4",
   "metadata": {},
   "outputs": [
    {
     "name": "stdout",
     "output_type": "stream",
     "text": [
      "Enter a number: 35\n",
      "35  is an Unhappy Number!!!\n"
     ]
    }
   ],
   "source": [
    "num = int(input(\"Enter a number: \"))    \n",
    "result = num    \n",
    "     \n",
    "while(result != 1 and result != 4):    \n",
    "    result = happy_num(result)   \n",
    "     \n",
    "if(result == 1):    \n",
    "    print(num, \" is a Happy Number!!!\")   \n",
    "else:    \n",
    "    print(num, \" is an Unhappy Number!!!\")"
   ]
  },
  {
   "cell_type": "code",
   "execution_count": 31,
   "id": "e6236752",
   "metadata": {},
   "outputs": [],
   "source": [
    "# 4. Write a Python program to print all happy numbers between 1 and 100?"
   ]
  },
  {
   "cell_type": "code",
   "execution_count": 37,
   "id": "a17f0896",
   "metadata": {},
   "outputs": [
    {
     "name": "stdout",
     "output_type": "stream",
     "text": [
      "List of happy numbers between 1 and 100: \n",
      "1 7 10 13 19 23 28 31 32 44 49 68 70 79 82 86 91 94 97 100 "
     ]
    }
   ],
   "source": [
    "print(\"List of happy numbers between 1 and 100: \")  \n",
    "for i in range(1, 101):    \n",
    "    result = i      \n",
    "    while(result != 1 and result != 4):    \n",
    "        result = happy_num(result)   \n",
    "        \n",
    "    if(result == 1):    \n",
    "        print(i,end=\" \")       "
   ]
  },
  {
   "cell_type": "code",
   "execution_count": 38,
   "id": "13025053",
   "metadata": {},
   "outputs": [],
   "source": [
    "# 5 .Write a Python program to determine whether the given number is a Harshad Number?"
   ]
  },
  {
   "cell_type": "code",
   "execution_count": 39,
   "id": "579c8c4a",
   "metadata": {},
   "outputs": [
    {
     "name": "stdout",
     "output_type": "stream",
     "text": [
      "156 is a harshad number\n"
     ]
    }
   ],
   "source": [
    "num = 156   \n",
    "rem =0 \n",
    "su_m = 0    \n",
    "     \n",
    "n = num    \n",
    "     \n",
    "#Calculates sum of digits    \n",
    "while(num > 0):    \n",
    "    rem = num%10    \n",
    "    su_m = su_m + rem    \n",
    "    num = num//10    \n",
    "     \n",
    "if(n%su_m == 0):    \n",
    "    print(str(n) + \" is a harshad number\")    \n",
    "else:    \n",
    "    print(str(n) + \" is not a harshad number\") "
   ]
  },
  {
   "cell_type": "code",
   "execution_count": 40,
   "id": "aa942b1e",
   "metadata": {},
   "outputs": [],
   "source": [
    "# 6. Write a Python program to print all pronic numbers between 1 and 100?"
   ]
  },
  {
   "cell_type": "code",
   "execution_count": 41,
   "id": "df3705af",
   "metadata": {},
   "outputs": [],
   "source": [
    "def checkPronic(Number):\n",
    "    i = 0\n",
    "    flag = 0\n",
    "    while i <= Number:\n",
    "        if Number == i * (i + 1):\n",
    "            flag = 1\n",
    "            break\n",
    "        i = i + 1\n",
    "    return flag"
   ]
  },
  {
   "cell_type": "code",
   "execution_count": 45,
   "id": "b6d655af",
   "metadata": {},
   "outputs": [
    {
     "name": "stdout",
     "output_type": "stream",
     "text": [
      "2\n",
      "6\n",
      "12\n",
      "20\n",
      "30\n",
      "42\n",
      "56\n",
      "72\n",
      "90\n"
     ]
    }
   ],
   "source": [
    "for i in range(1,101):\n",
    "    if(checkPronic(i)==1):\n",
    "        print(i)"
   ]
  },
  {
   "cell_type": "code",
   "execution_count": null,
   "id": "22d20a0a",
   "metadata": {},
   "outputs": [],
   "source": []
  }
 ],
 "metadata": {
  "kernelspec": {
   "display_name": "Python 3",
   "language": "python",
   "name": "python3"
  },
  "language_info": {
   "codemirror_mode": {
    "name": "ipython",
    "version": 3
   },
   "file_extension": ".py",
   "mimetype": "text/x-python",
   "name": "python",
   "nbconvert_exporter": "python",
   "pygments_lexer": "ipython3",
   "version": "3.9.13"
  }
 },
 "nbformat": 4,
 "nbformat_minor": 5
}
